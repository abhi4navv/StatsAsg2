{
 "cells": [
  {
   "cell_type": "markdown",
   "metadata": {},
   "source": [
    "Task 1:\n",
    "1. Blood glucose levels for obese patients have a mean of 100 with a standard deviation of 15. A\n",
    "researcher thinks that a diet high in raw cornstarch will have a positive effect on blood glucose\n",
    "levels. A sample of 36 patients who have tried the raw cornstarch diet have a mean glucose\n",
    "level of 108. Test the hypothesis that the raw cornstarch had an effect or not."
   ]
  },
  {
   "cell_type": "markdown",
   "metadata": {},
   "source": [
    "To test the hypothesis \n",
    "\n",
    "Null hypothesis- There is a effect of cornstarch has effect ofsugar level\n",
    "\n",
    "H0 $\\mu$= 100\n",
    "\n",
    "Alternate hypothesis-There is no effect.\n",
    "\n",
    "H1 $\\mu$>100\n",
    "\n",
    "There is no significance level given so we will take 5% ie 0.05\n",
    "\n",
    "Standard Deviation of sample=standard deviation/sqrt(sample size)\n",
    "\n",
    "Sample Size SS=36"
   ]
  },
  {
   "cell_type": "code",
   "execution_count": 51,
   "metadata": {},
   "outputs": [],
   "source": [
    "import math"
   ]
  },
  {
   "cell_type": "code",
   "execution_count": 52,
   "metadata": {},
   "outputs": [],
   "source": [
    "x=108\n",
    "u=100\n",
    "SS=(15/ math.sqrt(36))\n",
    "z=(x-u)/SS"
   ]
  },
  {
   "cell_type": "code",
   "execution_count": 53,
   "metadata": {},
   "outputs": [
    {
     "data": {
      "text/plain": [
       "3.2"
      ]
     },
     "execution_count": 53,
     "metadata": {},
     "output_type": "execute_result"
    }
   ],
   "source": [
    "z"
   ]
  },
  {
   "cell_type": "markdown",
   "metadata": {},
   "source": [
    "Seeing the ztable p value for 3.20=0.993\n",
    "\n",
    "So this the probability that value will be less than 108\n",
    "\n",
    "So probailty that the null hypothesis is correct\n",
    "1-0.993"
   ]
  },
  {
   "cell_type": "code",
   "execution_count": 54,
   "metadata": {},
   "outputs": [],
   "source": [
    "z0=1-0.993"
   ]
  },
  {
   "cell_type": "code",
   "execution_count": 55,
   "metadata": {},
   "outputs": [
    {
     "data": {
      "text/plain": [
       "0.007000000000000006"
      ]
     },
     "execution_count": 55,
     "metadata": {},
     "output_type": "execute_result"
    }
   ],
   "source": [
    "z0"
   ]
  },
  {
   "cell_type": "markdown",
   "metadata": {},
   "source": [
    "Since 0.007(Probabilty of hypothesis to be true) is less than significance value 0.05.\n",
    "\n",
    "So we will reject the null hypothesis i.e cornstarch has any effect\n"
   ]
  },
  {
   "cell_type": "markdown",
   "metadata": {},
   "source": [
    "2. In one state, 52% of the voters are Republicans, and 48% are Democrats. In a second state,\n",
    "47% of the voters are Republicans, and 53% are Democrats. Suppose a simple random sample\n",
    "of 100 voters are surveyed from each state.\n",
    "What is the probability that the survey will show a greater percentage of Republican voters in\n",
    "the second state than in the first state?"
   ]
  },
  {
   "cell_type": "markdown",
   "metadata": {},
   "source": [
    "pr1- Portion of Republican voter in 1st state\n",
    "\n",
    "pr2=portion of Rebublican voters in 2nd state\n",
    "\n",
    "n1=Sample size of 1st state\n",
    "\n",
    "n2=Sample size of 2nd state\n",
    "\n",
    "First we will see if sample size is enough."
   ]
  },
  {
   "cell_type": "code",
   "execution_count": 56,
   "metadata": {},
   "outputs": [
    {
     "name": "stdout",
     "output_type": "stream",
     "text": [
      "52.0\n",
      "48.0\n",
      "47.0\n",
      "53.0\n"
     ]
    }
   ],
   "source": [
    "pr1=.52\n",
    "pr2=.47\n",
    "n1=100\n",
    "n2=100\n",
    "print(n1*pr1)\n",
    "print(n1*(1-pr1))\n",
    "print(n2*pr2)\n",
    "print(n2*(1-pr2))\n"
   ]
  },
  {
   "cell_type": "markdown",
   "metadata": {},
   "source": [
    "Since all the values are greater than 10, so the sample size is enogh."
   ]
  },
  {
   "cell_type": "markdown",
   "metadata": {},
   "source": [
    "Mean difference of portions.\n"
   ]
  },
  {
   "cell_type": "code",
   "execution_count": 57,
   "metadata": {},
   "outputs": [
    {
     "data": {
      "text/plain": [
       "0.050000000000000044"
      ]
     },
     "execution_count": 57,
     "metadata": {},
     "output_type": "execute_result"
    }
   ],
   "source": [
    "E=pr1-pr2\n",
    "E"
   ]
  },
  {
   "cell_type": "markdown",
   "metadata": {},
   "source": [
    "standard deviation of difference"
   ]
  },
  {
   "cell_type": "code",
   "execution_count": 58,
   "metadata": {},
   "outputs": [
    {
     "data": {
      "text/plain": [
       "0.07061869440877536"
      ]
     },
     "execution_count": 58,
     "metadata": {},
     "output_type": "execute_result"
    }
   ],
   "source": [
    "sd=math.sqrt(((pr1*(1-pr1))/n1)+((pr2*(1-pr2))/n2))\n",
    "sd"
   ]
  },
  {
   "cell_type": "markdown",
   "metadata": {},
   "source": [
    "probability that the survey will show a greater percentage of Republican voters in\n",
    "the second state than in the first state.\n",
    "So we will find the probability of pr1-pr2<0\n",
    "\n",
    "\n",
    "X=0\n"
   ]
  },
  {
   "cell_type": "code",
   "execution_count": 59,
   "metadata": {},
   "outputs": [
    {
     "data": {
      "text/plain": [
       "-0.7080278164104213"
      ]
     },
     "execution_count": 59,
     "metadata": {},
     "output_type": "execute_result"
    }
   ],
   "source": [
    "X=0\n",
    "z=(X-E)/sd\n",
    "z"
   ]
  },
  {
   "cell_type": "code",
   "execution_count": 60,
   "metadata": {},
   "outputs": [],
   "source": [
    "pval=.2420\n",
    "\n"
   ]
  },
  {
   "cell_type": "markdown",
   "metadata": {},
   "source": [
    "So the probability that the survey will show a greater percentage of Republican voters in\n",
    "the second state than in the first state=.2420"
   ]
  },
  {
   "cell_type": "markdown",
   "metadata": {},
   "source": [
    "3. You take the SAT and score 1100. The mean score for the SAT is 1026 and the standard\n",
    "deviation is 209. How well did you score on the test compared to the average test taker?\n",
    "\n",
    "X=Score of 1100\n",
    "\n",
    "u=Mean test score"
   ]
  },
  {
   "cell_type": "code",
   "execution_count": 61,
   "metadata": {},
   "outputs": [],
   "source": [
    "X=1100\n",
    "u=1026\n",
    "st=209"
   ]
  },
  {
   "cell_type": "code",
   "execution_count": 62,
   "metadata": {},
   "outputs": [
    {
     "data": {
      "text/plain": [
       "0.35406698564593303"
      ]
     },
     "execution_count": 62,
     "metadata": {},
     "output_type": "execute_result"
    }
   ],
   "source": [
    "zst=(X-u)/st\n",
    "zst"
   ]
  },
  {
   "cell_type": "markdown",
   "metadata": {},
   "source": [
    "So my score is 0.354 standard deviation from the mean."
   ]
  },
  {
   "cell_type": "markdown",
   "metadata": {},
   "source": [
    "Task 2:\n",
    "1. Is gender independent of education level? A random sample of 395 people were surveyed\n",
    "and each person was asked to report the highest education level they obtained. The data that\n",
    "resulted from the survey is summarized in the following table:\n",
    "\n",
    "        High School Bachelors Masters Ph.d. Total\n",
    "\n",
    "Female   60 54 46 41 201\n",
    "\n",
    "Male    40 44 53 57 194\n",
    "\n",
    "Total   100 98 99 98 395\n",
    "\n",
    "Question: Are gender and education level dependent at 5% level of significance? In other\n",
    "\n",
    "words, given the data collected above, is there a relationship between the gender of an\n",
    "\n",
    "individual and the level of education that they have obtained?"
   ]
  },
  {
   "cell_type": "markdown",
   "metadata": {},
   "source": [
    "null hyp"
   ]
  },
  {
   "cell_type": "code",
   "execution_count": 63,
   "metadata": {},
   "outputs": [
    {
     "data": {
      "text/plain": [
       "8.006548954258284"
      ]
     },
     "execution_count": 63,
     "metadata": {},
     "output_type": "execute_result"
    }
   ],
   "source": [
    "n=((60-50.886)**2)/50.866+((54-49.868)**2)/49.868+((46-50.377)**2)/50.377+((41-49.868)**2)/49.868+((40-49.114)**2)/49.114+((44-48.132)**2)/48.132+((53-48.623)**2)/48.623+((57-48.132)**2)/48.132\n",
    "n"
   ]
  },
  {
   "cell_type": "markdown",
   "metadata": {},
   "source": [
    "The critical value of n is 7.815\n",
    "since 8.0065>7.815\n",
    "So we conclude that education levels depend on gender."
   ]
  },
  {
   "cell_type": "markdown",
   "metadata": {},
   "source": [
    "2. Using the following data, perform a oneway analysis of variance using α=.05. Write up the\n",
    "results in APA format.\n",
    "\n",
    "[Group1: 51, 45, 33, 45, 67]\n",
    "\n",
    "[Group2: 23, 43, 23, 43, 45]\n",
    "\n",
    "[Group3: 56, 76, 74, 87, 56]"
   ]
  },
  {
   "cell_type": "code",
   "execution_count": 64,
   "metadata": {},
   "outputs": [],
   "source": [
    "gp1=[51, 45, 33, 45, 67]\n",
    "gp2=[23, 43, 23, 43, 45]\n",
    "gp3=[56, 76, 74, 87, 56]"
   ]
  },
  {
   "cell_type": "markdown",
   "metadata": {},
   "source": [
    "Mean of all groups-"
   ]
  },
  {
   "cell_type": "code",
   "execution_count": 65,
   "metadata": {},
   "outputs": [
    {
     "data": {
      "text/plain": [
       "48.2"
      ]
     },
     "execution_count": 65,
     "metadata": {},
     "output_type": "execute_result"
    }
   ],
   "source": [
    "mngp1=sum(gp1)/len(gp1)\n",
    "mngp1"
   ]
  },
  {
   "cell_type": "markdown",
   "metadata": {},
   "source": [
    "Sum of suare of deviation-"
   ]
  },
  {
   "cell_type": "code",
   "execution_count": 66,
   "metadata": {},
   "outputs": [
    {
     "data": {
      "text/plain": [
       "612.8"
      ]
     },
     "execution_count": 66,
     "metadata": {},
     "output_type": "execute_result"
    }
   ],
   "source": [
    "sdgp1=(gp1[0]-mngp1)**2+(gp1[1]-mngp1)**2+(gp1[2]-mngp1)**2+(gp1[3]-mngp1)**2+(gp1[4]-mngp1)**2\n",
    "sdgp1"
   ]
  },
  {
   "cell_type": "code",
   "execution_count": 67,
   "metadata": {},
   "outputs": [
    {
     "data": {
      "text/plain": [
       "35.4"
      ]
     },
     "execution_count": 67,
     "metadata": {},
     "output_type": "execute_result"
    }
   ],
   "source": [
    "mngp2=sum(gp2)/len(gp2)\n",
    "mngp2"
   ]
  },
  {
   "cell_type": "markdown",
   "metadata": {},
   "source": [
    "Sum of suare of deviation-"
   ]
  },
  {
   "cell_type": "code",
   "execution_count": 68,
   "metadata": {},
   "outputs": [
    {
     "data": {
      "text/plain": [
       "515.2"
      ]
     },
     "execution_count": 68,
     "metadata": {},
     "output_type": "execute_result"
    }
   ],
   "source": [
    "sdgp2=(gp2[0]-mngp2)**2+(gp2[1]-mngp2)**2+(gp2[2]-mngp2)**2+(gp2[3]-mngp2)**2+(gp2[4]-mngp2)**2\n",
    "sdgp2"
   ]
  },
  {
   "cell_type": "code",
   "execution_count": 69,
   "metadata": {},
   "outputs": [
    {
     "data": {
      "text/plain": [
       "69.8"
      ]
     },
     "execution_count": 69,
     "metadata": {},
     "output_type": "execute_result"
    }
   ],
   "source": [
    "mngp3=sum(gp3)/len(gp3)\n",
    "mngp3"
   ]
  },
  {
   "cell_type": "markdown",
   "metadata": {},
   "source": [
    "Sum of suare of deviation-"
   ]
  },
  {
   "cell_type": "code",
   "execution_count": 70,
   "metadata": {},
   "outputs": [
    {
     "data": {
      "text/plain": [
       "732.8"
      ]
     },
     "execution_count": 70,
     "metadata": {},
     "output_type": "execute_result"
    }
   ],
   "source": [
    "sdgp3=(gp3[0]-mngp3)**2+(gp3[1]-mngp3)**2+(gp3[2]-mngp3)**2+(gp3[3]-mngp3)**2+(gp3[4]-mngp3)**2\n",
    "sdgp3"
   ]
  },
  {
   "cell_type": "markdown",
   "metadata": {},
   "source": [
    "sum of all sqaure of devation -"
   ]
  },
  {
   "cell_type": "code",
   "execution_count": 71,
   "metadata": {},
   "outputs": [],
   "source": [
    "n=len(gp1)-1"
   ]
  },
  {
   "cell_type": "code",
   "execution_count": 72,
   "metadata": {},
   "outputs": [
    {
     "name": "stdout",
     "output_type": "stream",
     "text": [
      "153.2 128.8 183.2\n"
     ]
    }
   ],
   "source": [
    "var1=sdgp1/n\n",
    "var2=sdgp2/n\n",
    "var3=sdgp3/n\n",
    "print(var1,var2,var3)"
   ]
  },
  {
   "cell_type": "code",
   "execution_count": 73,
   "metadata": {},
   "outputs": [
    {
     "data": {
      "text/plain": [
       "155.06666666666666"
      ]
     },
     "execution_count": 73,
     "metadata": {},
     "output_type": "execute_result"
    }
   ],
   "source": [
    "MSer=(var1+var2+var3)/3\n",
    "MSer"
   ]
  },
  {
   "cell_type": "markdown",
   "metadata": {},
   "source": [
    "Error remaining-"
   ]
  },
  {
   "cell_type": "code",
   "execution_count": 74,
   "metadata": {},
   "outputs": [
    {
     "data": {
      "text/plain": [
       "1860.8"
      ]
     },
     "execution_count": 74,
     "metadata": {},
     "output_type": "execute_result"
    }
   ],
   "source": [
    "remer=MSer*((len(gp1)+len(gp2)+len(gp3)-3))\n",
    "remer"
   ]
  },
  {
   "cell_type": "markdown",
   "metadata": {},
   "source": [
    "Grand Mean-"
   ]
  },
  {
   "cell_type": "code",
   "execution_count": 75,
   "metadata": {},
   "outputs": [
    {
     "data": {
      "text/plain": [
       "51.133333333333326"
      ]
     },
     "execution_count": 75,
     "metadata": {},
     "output_type": "execute_result"
    }
   ],
   "source": [
    "gnmn=(mngp1+mngp2+mngp3)/3\n",
    "gnmn"
   ]
  },
  {
   "cell_type": "markdown",
   "metadata": {},
   "source": [
    "Using grand mean and group mean the square of deviation is-"
   ]
  },
  {
   "cell_type": "code",
   "execution_count": 76,
   "metadata": {},
   "outputs": [
    {
     "data": {
      "text/plain": [
       "604.5866666666666"
      ]
     },
     "execution_count": 76,
     "metadata": {},
     "output_type": "execute_result"
    }
   ],
   "source": [
    "sdgn=((mngp1-gnmn)**2+(mngp2-gnmn)**2+(mngp3-gnmn)**2)\n",
    "sdgn"
   ]
  },
  {
   "cell_type": "code",
   "execution_count": 77,
   "metadata": {},
   "outputs": [
    {
     "data": {
      "text/plain": [
       "302.2933333333333"
      ]
     },
     "execution_count": 77,
     "metadata": {},
     "output_type": "execute_result"
    }
   ],
   "source": [
    "varmns=sdgn/(3-1)\n",
    "varmns"
   ]
  },
  {
   "cell_type": "code",
   "execution_count": 78,
   "metadata": {},
   "outputs": [
    {
     "data": {
      "text/plain": [
       "1511.4666666666665"
      ]
     },
     "execution_count": 78,
     "metadata": {},
     "output_type": "execute_result"
    }
   ],
   "source": [
    "msbt=varmns*5\n",
    "msbt"
   ]
  },
  {
   "cell_type": "code",
   "execution_count": 79,
   "metadata": {},
   "outputs": [
    {
     "name": "stdout",
     "output_type": "stream",
     "text": [
      "2 3022.9\n"
     ]
    }
   ],
   "source": [
    "dfgroups=3-1 \n",
    "\n",
    "SSgroup=(1511.45)*dfgroups\n",
    "\n",
    "print(dfgroups,SSgroup)\n",
    "\n"
   ]
  },
  {
   "cell_type": "markdown",
   "metadata": {},
   "source": [
    "Test statistic and critical value"
   ]
  },
  {
   "cell_type": "code",
   "execution_count": 80,
   "metadata": {},
   "outputs": [
    {
     "name": "stdout",
     "output_type": "stream",
     "text": [
      "9.747205503009457 3.89\n"
     ]
    }
   ],
   "source": [
    "F=msbt/MSer\n",
    "\n",
    "Fcr=3.89\n",
    "\n",
    "\n",
    "print(F,Fcr)"
   ]
  },
  {
   "cell_type": "code",
   "execution_count": null,
   "metadata": {},
   "outputs": [],
   "source": []
  },
  {
   "cell_type": "markdown",
   "metadata": {},
   "source": [
    "ANOVA table\n",
    "\n",
    "source\t  SS\t   df\tMS\t    F\n",
    "\n",
    "group\t 3022.9\t  2\t  1511.45\t9.75\n",
    "\n",
    "error\t 1860.8\t  12 155.07\t\n",
    "\n",
    "total\t 4883.7\t\t\t"
   ]
  },
  {
   "cell_type": "markdown",
   "metadata": {},
   "source": [
    "Effect size"
   ]
  },
  {
   "cell_type": "code",
   "execution_count": 83,
   "metadata": {},
   "outputs": [
    {
     "data": {
      "text/plain": [
       "0.6189774146651105"
      ]
     },
     "execution_count": 83,
     "metadata": {},
     "output_type": "execute_result"
    }
   ],
   "source": [
    "n2=SSgroup/(SSgroup+remer)\n",
    "n2"
   ]
  },
  {
   "cell_type": "markdown",
   "metadata": {},
   "source": [
    "APA writeup\n",
    "F(2, 12)=9.75, p <0.05, η2=0.62."
   ]
  },
  {
   "cell_type": "markdown",
   "metadata": {},
   "source": [
    "3. Calculate F Test for given 10, 20, 30, 40, 50 and 5,10,15, 20, 25.\n",
    "\n",
    "For 10, 20, 30, 40, 50:\n",
    "\n"
   ]
  },
  {
   "cell_type": "code",
   "execution_count": 84,
   "metadata": {},
   "outputs": [
    {
     "name": "stdout",
     "output_type": "stream",
     "text": [
      "5\n",
      "30.0\n"
     ]
    }
   ],
   "source": [
    "input1=(10,20,30,40,50)\n",
    "\n",
    "print(len(input1))\n",
    "\n",
    "mn=sum(input1)/len(input1)\n",
    "print(mn)"
   ]
  },
  {
   "cell_type": "code",
   "execution_count": 85,
   "metadata": {},
   "outputs": [
    {
     "data": {
      "text/plain": [
       "150"
      ]
     },
     "execution_count": 85,
     "metadata": {},
     "output_type": "execute_result"
    }
   ],
   "source": [
    "sum(input1)"
   ]
  },
  {
   "cell_type": "markdown",
   "metadata": {},
   "source": [
    "standard Deviation"
   ]
  },
  {
   "cell_type": "code",
   "execution_count": 86,
   "metadata": {},
   "outputs": [
    {
     "data": {
      "text/plain": [
       "14.142135623730951"
      ]
     },
     "execution_count": 86,
     "metadata": {},
     "output_type": "execute_result"
    }
   ],
   "source": [
    "\n",
    "\n",
    "sd1=math.sqrt(((input1[0]-mn)**2+(input1[1]-mn)**2+(input1[2]-mn)**2+(input1[3]-mn)**2+(input1[4]-mn)**2)/(len(input1)))\n",
    "sd1"
   ]
  },
  {
   "cell_type": "code",
   "execution_count": 87,
   "metadata": {},
   "outputs": [
    {
     "data": {
      "text/plain": [
       "200.00000000000003"
      ]
     },
     "execution_count": 87,
     "metadata": {},
     "output_type": "execute_result"
    }
   ],
   "source": [
    "variance1=sd1**2\n",
    "variance1"
   ]
  },
  {
   "cell_type": "markdown",
   "metadata": {},
   "source": [
    "For 2nd input"
   ]
  },
  {
   "cell_type": "code",
   "execution_count": 88,
   "metadata": {},
   "outputs": [],
   "source": [
    "input2=(5,10,15, 20, 25)"
   ]
  },
  {
   "cell_type": "code",
   "execution_count": 89,
   "metadata": {},
   "outputs": [
    {
     "name": "stdout",
     "output_type": "stream",
     "text": [
      "5\n",
      "15.0\n"
     ]
    }
   ],
   "source": [
    "print(len(input2))\n",
    "mn2=sum(input2)/len(input2)\n",
    "print(mn2)"
   ]
  },
  {
   "cell_type": "code",
   "execution_count": 90,
   "metadata": {},
   "outputs": [],
   "source": [
    "sd2=math.sqrt(((input2[0]-mn2)**2+(input2[1]-mn2)**2+(input2[2]-mn2)**2+(input2[3]-mn2)**2+(input2[4]-mn2)**2)/len(input2))"
   ]
  },
  {
   "cell_type": "code",
   "execution_count": 91,
   "metadata": {},
   "outputs": [
    {
     "data": {
      "text/plain": [
       "50.00000000000001"
      ]
     },
     "execution_count": 91,
     "metadata": {},
     "output_type": "execute_result"
    }
   ],
   "source": [
    "variance2=sd2**2\n",
    "variance2"
   ]
  },
  {
   "cell_type": "markdown",
   "metadata": {},
   "source": [
    "F Test= (variance of 10, 20,30,40,50) / (variance of 5, 10, 15, 20, 25) "
   ]
  },
  {
   "cell_type": "code",
   "execution_count": 92,
   "metadata": {},
   "outputs": [
    {
     "data": {
      "text/plain": [
       "4.0"
      ]
     },
     "execution_count": 92,
     "metadata": {},
     "output_type": "execute_result"
    }
   ],
   "source": [
    "ftest=variance1/variance2\n",
    "ftest"
   ]
  },
  {
   "cell_type": "code",
   "execution_count": null,
   "metadata": {},
   "outputs": [],
   "source": []
  }
 ],
 "metadata": {
  "kernelspec": {
   "display_name": "Python 3",
   "language": "python",
   "name": "python3"
  },
  "language_info": {
   "codemirror_mode": {
    "name": "ipython",
    "version": 3
   },
   "file_extension": ".py",
   "mimetype": "text/x-python",
   "name": "python",
   "nbconvert_exporter": "python",
   "pygments_lexer": "ipython3",
   "version": "3.6.8"
  }
 },
 "nbformat": 4,
 "nbformat_minor": 2
}
